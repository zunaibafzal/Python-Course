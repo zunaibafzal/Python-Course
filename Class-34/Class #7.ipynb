{
 "cells": [
  {
   "cell_type": "code",
   "execution_count": 7,
   "metadata": {},
   "outputs": [
    {
     "name": "stdout",
     "output_type": "stream",
     "text": [
      "{'name': 'Zunaib', 'class': 5, 'age': 12, 'address': 'Karachi, Pakistan'}\n"
     ]
    }
   ],
   "source": [
    "#Dictionaries\n",
    "\n",
    "school = {\n",
    "            \"name\": \"Zunaib\",\n",
    "            \"class\": 5,\n",
    "            \"age\": 12,    \n",
    "        }\n",
    "\n",
    "school[\"address\"] = \"Karachi, Pakistan\"\n",
    "\n",
    "print(school)"
   ]
  },
  {
   "cell_type": "code",
   "execution_count": 9,
   "metadata": {},
   "outputs": [
    {
     "name": "stdout",
     "output_type": "stream",
     "text": [
      "{1: 'Zunaib', 2: 5, 3: 12, 4: 'Karachi, Pakistan'}\n"
     ]
    }
   ],
   "source": [
    "#Dictionaries\n",
    "\n",
    "school = {\n",
    "            1: \"Zunaib\",\n",
    "            2: 5,\n",
    "            3: 12,\n",
    "            4: \"Karachi, Pakistan\"\n",
    "        }\n",
    "print(school)"
   ]
  },
  {
   "cell_type": "code",
   "execution_count": 10,
   "metadata": {},
   "outputs": [
    {
     "data": {
      "text/plain": [
       "dict"
      ]
     },
     "execution_count": 10,
     "metadata": {},
     "output_type": "execute_result"
    }
   ],
   "source": [
    "school = {\n",
    "            1: \"Zunaib\",\n",
    "            2: 5,\n",
    "            3: 12,\n",
    "            4: \"Karachi, Pakistan\"\n",
    "        }\n",
    "\n",
    "type(school)"
   ]
  },
  {
   "cell_type": "code",
   "execution_count": 13,
   "metadata": {},
   "outputs": [
    {
     "data": {
      "text/plain": [
       "list"
      ]
     },
     "execution_count": 13,
     "metadata": {},
     "output_type": "execute_result"
    }
   ],
   "source": [
    "school = [      \"Zunaib\",    5,     12,  \"Karachi, Pakistan\"]\n",
    "\n",
    "type(school)"
   ]
  },
  {
   "cell_type": "code",
   "execution_count": 14,
   "metadata": {},
   "outputs": [
    {
     "data": {
      "text/plain": [
       "tuple"
      ]
     },
     "execution_count": 14,
     "metadata": {},
     "output_type": "execute_result"
    }
   ],
   "source": [
    "school = (      \"Zunaib\",    5,     12,  \"Karachi, Pakistan\")\n",
    "\n",
    "type(school)"
   ]
  },
  {
   "cell_type": "code",
   "execution_count": 21,
   "metadata": {},
   "outputs": [
    {
     "name": "stdout",
     "output_type": "stream",
     "text": [
      "{'name': 'Zunaib', 'class': 5, 'age': 12, 'address': 'Karachi, Pakistan'}\n"
     ]
    }
   ],
   "source": [
    "#Dictionaries\n",
    "\n",
    "school = {\n",
    "            \"name\": \"Zunaib\",\n",
    "            \"class\": 5,\n",
    "            \"age\": 12,\n",
    "            \"address\": \"Karachi, Pakistan\",\n",
    "            \"phone\": 12345\n",
    "        }\n",
    "\n",
    "del school[\"phone\"]\n",
    "\n",
    "print(school)"
   ]
  },
  {
   "cell_type": "code",
   "execution_count": 37,
   "metadata": {},
   "outputs": [
    {
     "name": "stdout",
     "output_type": "stream",
     "text": [
      "Zunaib name\n",
      "5 class\n",
      "12 age\n",
      "Karachi, Pakistan address\n",
      "12345 phone\n"
     ]
    }
   ],
   "source": [
    "#Dictionaries\n",
    "#.keys #.values #.items\n",
    "\n",
    "school = {\n",
    "            \"name\": \"Zunaib\",\n",
    "            \"class\": 5,\n",
    "            \"age\": 12,\n",
    "            \"address\": \"Karachi, Pakistan\",\n",
    "            \"phone\": 12345\n",
    "        }\n",
    "\n",
    "\n",
    "for academy_key, academy_value in school.items():\n",
    "    print(academy_value, academy_key)\n"
   ]
  },
  {
   "cell_type": "code",
   "execution_count": 8,
   "metadata": {},
   "outputs": [
    {
     "name": "stdout",
     "output_type": "stream",
     "text": [
      "[{'name': 'Zunaib', 'class': 5, 'age': 12, 'address': 'Karachi, Pakistan', 'phone': 12345}, {'name': 'Bilal', 'class': 9, 'age': 15, 'address': 'Islamabad, Pakistan', 'phone': 112233}, {'name': 'Ahmed', 'class': 8, 'age': 10, 'address': 'Lahore, Pakistan', 'phone': 998877}, {'name': 'Dawood', 'class': 8, 'age': 14, 'address': 'multan, Pakistan', 'phone': 995588}]\n"
     ]
    }
   ],
   "source": [
    "school = [\n",
    "        {\n",
    "            \"name\": \"Zunaib\",\n",
    "            \"class\": 5,\n",
    "            \"age\": 12,\n",
    "            \"address\": \"Karachi, Pakistan\",\n",
    "            \"phone\": 12345\n",
    "        },\n",
    "        {\n",
    "            \"name\": \"Bilal\",\n",
    "            \"class\": 9,\n",
    "            \"age\": 15,\n",
    "            \"address\": \"Islamabad, Pakistan\",\n",
    "            \"phone\": 112233\n",
    "        },\n",
    "        {\n",
    "            \"name\": \"Ahmed\",\n",
    "            \"class\": 8,\n",
    "            \"age\": 10,\n",
    "            \"address\": \"Lahore, Pakistan\",\n",
    "            \"phone\": 998877\n",
    "        }\n",
    "]\n",
    "\n",
    "new_school = {\n",
    "            \"name\": \"Dawood\",\n",
    "            \"class\": 8,\n",
    "            \"age\": 14,\n",
    "            \"address\": \"multan, Pakistan\",\n",
    "            \"phone\": 995588\n",
    "            }\n",
    "\n",
    "school.append(new_school)\n",
    "\n",
    "print(school)\n"
   ]
  },
  {
   "cell_type": "code",
   "execution_count": 9,
   "metadata": {},
   "outputs": [
    {
     "name": "stdout",
     "output_type": "stream",
     "text": [
      "zunaib\n"
     ]
    }
   ],
   "source": [
    "a = [\"zunaib\", \"bilal\", \"ahmed\"]\n",
    "\n",
    "print(a[0])"
   ]
  },
  {
   "cell_type": "code",
   "execution_count": 20,
   "metadata": {},
   "outputs": [
    {
     "name": "stdout",
     "output_type": "stream",
     "text": [
      "{'name': 'Zunaib', 'class': 5, 'age': 12, 'cities': ['Karachi', 'Lahore', 'Multan', 'Islamabd'], 'phone': 12345}\n"
     ]
    }
   ],
   "source": [
    "school = {\n",
    "            \"name\": \"Zunaib\",\n",
    "            \"class\": 5,\n",
    "            \"age\": 12,\n",
    "            \"cities\": [\"Karachi\", \"Lahore\", \"Multan\"],\n",
    "            \"phone\": 12345\n",
    "        }\n",
    "\n",
    "\n",
    "school[\"cities\"] = [\"Karachi\", \"Lahore\", \"Multan\", \"Islamabd\"]\n",
    "\n",
    "print(school)"
   ]
  },
  {
   "cell_type": "code",
   "execution_count": 32,
   "metadata": {},
   "outputs": [
    {
     "name": "stdout",
     "output_type": "stream",
     "text": [
      "Karachi, Pakistan\n"
     ]
    }
   ],
   "source": [
    "school = {\n",
    "          0: {            \n",
    "                        \"class\": 5,\n",
    "                        \"age\": 12,\n",
    "                        \"address\": \"Karachi, Pakistan\",\n",
    "                        \"phone\": 12345,\n",
    "                    },\n",
    "           1: {           \n",
    "                        \"class\": 9,\n",
    "                        \"age\": 15,\n",
    "                        \"address\": \"Islamabad, Pakistan\",\n",
    "                        \"phone\": 112233,\n",
    "                    },\n",
    "           2: {          \n",
    "                        \"class\": 8,\n",
    "                        \"age\": 10,\n",
    "                        \"address\": \"Lahore, Pakistan\",\n",
    "                        \"phone\": 998877,\n",
    "                    },\n",
    "}\n",
    "\n",
    "print(school[0][\"address\"])"
   ]
  },
  {
   "cell_type": "code",
   "execution_count": 33,
   "metadata": {},
   "outputs": [
    {
     "name": "stdout",
     "output_type": "stream",
     "text": [
      "5\n"
     ]
    }
   ],
   "source": [
    "#Functions\n",
    "\n",
    "def add_number():\n",
    "    a = 2\n",
    "    b = 3\n",
    "    c = a + b\n",
    "    print(c)\n",
    "\n",
    "    \n",
    "add_number()\n",
    "    \n",
    "    "
   ]
  },
  {
   "cell_type": "code",
   "execution_count": 39,
   "metadata": {},
   "outputs": [
    {
     "name": "stdout",
     "output_type": "stream",
     "text": [
      "Write First Number: 15\n",
      "Write Second Number: 5\n",
      "Enter Operator: /\n",
      "3.0\n"
     ]
    }
   ],
   "source": [
    "#Simple Calculator\n",
    "\n",
    "a = int(input(\"Write First Number: \"))\n",
    "b = int(input(\"Write Second Number: \"))\n",
    "op = input(\"Enter Operator: \")\n",
    "\n",
    "if op == \"+\":\n",
    "    print(a + b)\n",
    "elif op == \"-\":\n",
    "    print(a - b)\n",
    "elif op == \"*\":\n",
    "    print(a * b)\n",
    "elif op == \"/\":\n",
    "    print(a / b)\n",
    "else:\n",
    "    print(\"Wrong Operator\")"
   ]
  },
  {
   "cell_type": "code",
   "execution_count": null,
   "metadata": {},
   "outputs": [],
   "source": [
    "Saylani Mass IT Training\n",
    "    Saylani Mass IT Training\n",
    "Saylani Mass IT Training\n",
    "    Saylani Mass IT Training\n",
    "Saylani Mass IT Training\n",
    "    Saylani Mass IT Training"
   ]
  },
  {
   "cell_type": "code",
   "execution_count": null,
   "metadata": {},
   "outputs": [],
   "source": [
    "Saylani Mass IT Training\n",
    "    Saylani Mass IT Training\n",
    "        Saylani Mass IT Training\n",
    "            Saylani Mass IT Training\n",
    "        Saylani Mass IT Training\n",
    "    Saylani Mass IT Training\n",
    "Saylani Mass IT Training"
   ]
  }
 ],
 "metadata": {
  "kernelspec": {
   "display_name": "Python 3",
   "language": "python",
   "name": "python3"
  },
  "language_info": {
   "codemirror_mode": {
    "name": "ipython",
    "version": 3
   },
   "file_extension": ".py",
   "mimetype": "text/x-python",
   "name": "python",
   "nbconvert_exporter": "python",
   "pygments_lexer": "ipython3",
   "version": "3.7.1"
  }
 },
 "nbformat": 4,
 "nbformat_minor": 2
}
