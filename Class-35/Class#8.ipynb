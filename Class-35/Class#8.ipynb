{
 "cells": [
  {
   "cell_type": "code",
   "execution_count": 3,
   "metadata": {},
   "outputs": [
    {
     "name": "stdout",
     "output_type": "stream",
     "text": [
      "Q1) Color of Apple?\n",
      "  a) Red\n",
      "  b) Blue\n",
      "  c) Green\n",
      "  d) Black \n",
      "\n",
      "Select option: a\n",
      "Correct Answer\n"
     ]
    }
   ],
   "source": [
    "#QuizApp #Simple Print Function\n",
    "print(\"Q1) Color of Apple?\")\n",
    "print(\"  a) Red\")\n",
    "print(\"  b) Blue\")\n",
    "print(\"  c) Green\")\n",
    "print(\"  d) Black \\n\")\n",
    "\n",
    "\n",
    "answer = input(\"Select option: \")\n",
    "\n",
    "if answer.lower() == \"a\":\n",
    "    print(\"Correct Answer\")\n",
    "else:\n",
    "    print(\"Wrong Answer\")\n"
   ]
  },
  {
   "cell_type": "code",
   "execution_count": 10,
   "metadata": {},
   "outputs": [
    {
     "name": "stdout",
     "output_type": "stream",
     "text": [
      "Q1) Color of Apple? \n",
      " a) Red \n",
      " b) Blue \n",
      " c) Green \n",
      " d) Black \n",
      "\n",
      "\n",
      " Wrong Answer\n",
      "Q2) Color of Banana? \n",
      "  a) Red \n",
      "  b) Blue \n",
      "  c) Green \n",
      "  d) Yellow \n",
      "\n",
      "\n",
      " Wrong Answer\n",
      "Q3) Color of Sky? \n",
      "  a) Red \n",
      "  b) Blue \n",
      "  c) Green \n",
      "  d) Yellow \n",
      "\n",
      "\n",
      " Wrong Answer\n"
     ]
    }
   ],
   "source": [
    "#QuizApp #Simple List\n",
    "\n",
    "quiz = [ \"Q1) Color of Apple? \\n a) Red \\n b) Blue \\n c) Green \\n d) Black \\n\", \n",
    "         \"Q2) Color of Banana? \\n  a) Red \\n  b) Blue \\n  c) Green \\n  d) Yellow \\n\", \n",
    "         \"Q3) Color of Sky? \\n  a) Red \\n  b) Blue \\n  c) Green \\n  d) Yellow \\n\"        \n",
    "       ]\n",
    "\n",
    "ans = [\"a\", \"d\", \"b\"]\n",
    "i = 0\n",
    "\n",
    "for question in quiz:\n",
    "    answer = input(question)\n",
    "    if answer == ans[i]:  \n",
    "        i = i+1\n",
    "        print(\"\\n Correct Answer: \" + answer)\n",
    "    else:\n",
    "        print(\"\\n Wrong Answer\")"
   ]
  },
  {
   "cell_type": "code",
   "execution_count": null,
   "metadata": {},
   "outputs": [],
   "source": [
    "Saylani Mass IT Training\n",
    "    Saylani Mass IT Training\n",
    "        Saylani Mass IT Training\n",
    "            Saylani Mass IT Training\n",
    "        Saylani Mass IT Training\n",
    "    Saylani Mass IT Training\n",
    "Saylani Mass IT Training\n"
   ]
  },
  {
   "cell_type": "code",
   "execution_count": 12,
   "metadata": {},
   "outputs": [
    {
     "ename": "SyntaxError",
     "evalue": "invalid syntax (<ipython-input-12-5aa131e6a795>, line 1)",
     "output_type": "error",
     "traceback": [
      "\u001b[1;36m  File \u001b[1;32m\"<ipython-input-12-5aa131e6a795>\"\u001b[1;36m, line \u001b[1;32m1\u001b[0m\n\u001b[1;33m    Saylani Mass IT Training\u001b[0m\n\u001b[1;37m               ^\u001b[0m\n\u001b[1;31mSyntaxError\u001b[0m\u001b[1;31m:\u001b[0m invalid syntax\n"
     ]
    }
   ],
   "source": [
    "Saylani Mass IT Training\n",
    "    Saylani Mass IT Training\n",
    "Saylani Mass IT Training\n",
    "    Saylani Mass IT Training\n",
    "Saylani Mass IT Training\n",
    "    Saylani Mass IT Training\n",
    "Saylani Mass IT Training\n"
   ]
  },
  {
   "cell_type": "code",
   "execution_count": 15,
   "metadata": {},
   "outputs": [
    {
     "name": "stdout",
     "output_type": "stream",
     "text": [
      "Saylani Mass IT Training \n",
      "\tSaylani Mass IT Training \n",
      "Saylani Mass IT Training \n",
      "\tSaylani Mass IT Training \n",
      "Saylani Mass IT Training \n",
      "\tSaylani Mass IT Training\n"
     ]
    }
   ],
   "source": [
    "print(\"Saylani Mass IT Training \\n\\tSaylani Mass IT Training \\nSaylani Mass IT Training \\n\\tSaylani Mass IT Training \\nSaylani Mass IT Training \\n\\tSaylani Mass IT Training\")"
   ]
  },
  {
   "cell_type": "code",
   "execution_count": 18,
   "metadata": {},
   "outputs": [
    {
     "name": "stdout",
     "output_type": "stream",
     "text": [
      "Saylani Mass IT Training \tSaylani Mass IT Training \n",
      "Saylani Mass IT Training \tSaylani Mass IT Training \n",
      "Saylani Mass IT Training \tSaylani Mass IT Training \n",
      "Saylani Mass IT Training \tSaylani Mass IT Training\n"
     ]
    }
   ],
   "source": [
    "print(\"Saylani Mass IT Training \\tSaylani Mass IT Training \\nSaylani Mass IT Training \\tSaylani Mass IT Training \\nSaylani Mass IT Training \\tSaylani Mass IT Training \\nSaylani Mass IT Training \\tSaylani Mass IT Training\")"
   ]
  },
  {
   "cell_type": "code",
   "execution_count": 24,
   "metadata": {},
   "outputs": [
    {
     "name": "stdout",
     "output_type": "stream",
     "text": [
      "Saylani Mass IT Training \n",
      "\tSaylani Mass IT Training \n",
      "\t\tSaylani Mass IT Training \n",
      "\t\t\tSaylani Mass IT Training \n",
      "\t\tSaylani Mass IT Training \n",
      "\tSaylani Mass IT Training \n",
      "Saylani Mass IT Training\n"
     ]
    }
   ],
   "source": [
    "print(\"Saylani Mass IT Training \\n\\tSaylani Mass IT Training \\n\\t\\tSaylani Mass IT Training \\n\\t\\t\\tSaylani Mass IT Training \\n\\t\\tSaylani Mass IT Training \\n\\tSaylani Mass IT Training \\nSaylani Mass IT Training\")"
   ]
  },
  {
   "cell_type": "code",
   "execution_count": 31,
   "metadata": {},
   "outputs": [
    {
     "name": "stdout",
     "output_type": "stream",
     "text": [
      "b) Blue\n",
      "b\n"
     ]
    }
   ],
   "source": [
    "quiz = [ \n",
    "    \n",
    "    {\n",
    "        \"Q1\": \"Color of Apple?\",\n",
    "        \"op\": [\"a) Red\", \"b) Blue\", \"c) Green\", \"d) Black\"],\n",
    "        \"ans\": \"a\"\n",
    "    },  \n",
    "    {\n",
    "        \"Q2\": \"Color of Apple?\",\n",
    "        \"op\": [\"a) Red\", \"b) Blue\", \"c) Green\", \"d) Black\"],\n",
    "        \"ans\": \"b\"\n",
    "    }, \n",
    "]\n",
    "\n",
    "print(quiz[0][\"op\"][1])\n",
    "print(quiz[1][\"ans\"])"
   ]
  },
  {
   "cell_type": "code",
   "execution_count": null,
   "metadata": {},
   "outputs": [],
   "source": []
  },
  {
   "cell_type": "code",
   "execution_count": null,
   "metadata": {},
   "outputs": [],
   "source": []
  },
  {
   "cell_type": "code",
   "execution_count": null,
   "metadata": {},
   "outputs": [],
   "source": []
  }
 ],
 "metadata": {
  "kernelspec": {
   "display_name": "Python 3",
   "language": "python",
   "name": "python3"
  },
  "language_info": {
   "codemirror_mode": {
    "name": "ipython",
    "version": 3
   },
   "file_extension": ".py",
   "mimetype": "text/x-python",
   "name": "python",
   "nbconvert_exporter": "python",
   "pygments_lexer": "ipython3",
   "version": "3.7.1"
  }
 },
 "nbformat": 4,
 "nbformat_minor": 2
}
