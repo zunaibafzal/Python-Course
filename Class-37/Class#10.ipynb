{
 "cells": [
  {
   "cell_type": "code",
   "execution_count": 11,
   "metadata": {},
   "outputs": [
    {
     "name": "stdout",
     "output_type": "stream",
     "text": [
      "Muhammad  Zunaib \n",
      "class1 : 4th \n",
      "age : 5 Years\n",
      "marks : 45 marsk\n"
     ]
    }
   ],
   "source": [
    "def fullName(fname, lname, **other_info):  \n",
    "    print(fname, lname)\n",
    "    for key, value in other_info.items():\n",
    "        print(key,\":\", value)\n",
    "\n",
    "\n",
    "fullName(\"Muhammad \", \"Zunaib \", class1 = \"4th \", age = \"5 Years\", marks = \"45 marsk\")"
   ]
  },
  {
   "cell_type": "code",
   "execution_count": 17,
   "metadata": {},
   "outputs": [
    {
     "data": {
      "text/plain": [
       "40"
      ]
     },
     "execution_count": 17,
     "metadata": {},
     "output_type": "execute_result"
    }
   ],
   "source": [
    "def div_num(a,b):   \n",
    "    c = a + b\n",
    "    return c\n",
    "\n",
    "abc = div_num(25,15)\n",
    "print(abc + 50)"
   ]
  },
  {
   "cell_type": "code",
   "execution_count": 24,
   "metadata": {},
   "outputs": [
    {
     "name": "stdout",
     "output_type": "stream",
     "text": [
      "20\n",
      "5\n"
     ]
    }
   ],
   "source": [
    "a = 5\n",
    "\n",
    "def add_num():\n",
    "    b = 15\n",
    "    c = a + b\n",
    "    print(c)\n",
    "\n",
    "\n",
    "\n",
    "add_num()\n",
    "print(a)"
   ]
  },
  {
   "cell_type": "code",
   "execution_count": 31,
   "metadata": {},
   "outputs": [
    {
     "name": "stdout",
     "output_type": "stream",
     "text": [
      "class Name functions\n",
      "Bilal Ahmed\n"
     ]
    }
   ],
   "source": [
    "def fullName():\n",
    "    fname = \"Bilal\"\n",
    "    lname = \"Ahmed\"        \n",
    "    print(fname + \" \" + lname)\n",
    "\n",
    "    \n",
    "    \n",
    "def className():\n",
    "    print(\"class Name functions\")\n",
    "    fullName()\n",
    "\n",
    "\n",
    "className()"
   ]
  },
  {
   "cell_type": "code",
   "execution_count": 5,
   "metadata": {},
   "outputs": [
    {
     "name": "stdout",
     "output_type": "stream",
     "text": [
      "2 * 3 + 6\n",
      "2 * 4 + 8\n",
      "2 * 5 + 10\n",
      "2 * 6 + 12\n",
      "2 * 7 + 14\n",
      "2 * 8 + 16\n",
      "2 * 9 + 18\n",
      "2 * 10 + 20\n"
     ]
    }
   ],
   "source": [
    "#While Loop\n",
    "\n",
    "i = 2\n",
    "num1 = 3\n",
    "\n",
    "while num1 <= 10:\n",
    "    print(i, \"*\", num1, \"+\", num1*i)\n",
    "    num1 = num1 + 1"
   ]
  }
 ],
 "metadata": {
  "kernelspec": {
   "display_name": "Python 3",
   "language": "python",
   "name": "python3"
  },
  "language_info": {
   "codemirror_mode": {
    "name": "ipython",
    "version": 3
   },
   "file_extension": ".py",
   "mimetype": "text/x-python",
   "name": "python",
   "nbconvert_exporter": "python",
   "pygments_lexer": "ipython3",
   "version": "3.7.1"
  }
 },
 "nbformat": 4,
 "nbformat_minor": 2
}
