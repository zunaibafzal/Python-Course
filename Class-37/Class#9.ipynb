{
 "cells": [
  {
   "cell_type": "code",
   "execution_count": 18,
   "metadata": {},
   "outputs": [
    {
     "name": "stdout",
     "output_type": "stream",
     "text": [
      "Write First Name: bilal\n",
      "Write Last Name: ahmed\n",
      "bilalahmed\n"
     ]
    }
   ],
   "source": [
    "#Function\n",
    "\n",
    "def fullName(fname,lname):   \n",
    "    c = fname + lname\n",
    "    print(c)\n",
    "\n",
    "fname = input(\"Write First Name: \")\n",
    "lname = input(\"Write Last Name: \")\n",
    "fullName(fname, lname)\n"
   ]
  },
  {
   "cell_type": "code",
   "execution_count": 19,
   "metadata": {},
   "outputs": [
    {
     "name": "stdout",
     "output_type": "stream",
     "text": [
      "20\n",
      "10\n",
      "75\n",
      "3.0\n"
     ]
    }
   ],
   "source": [
    "def add_num(a,b):   \n",
    "    c = a + b\n",
    "    print(c)\n",
    "\n",
    "def sub_num(a,b):   \n",
    "    c = a - b\n",
    "    print(c)\n",
    "    \n",
    "def mul_num(a,b):   \n",
    "    c = a * b\n",
    "    print(c)\n",
    "\n",
    "def div_num(a,b):   \n",
    "    c = a / b\n",
    "    print(c)\n",
    "\n",
    "\n",
    "add_num(15,5)\n",
    "sub_num(15,5)\n",
    "mul_num(15,5)\n",
    "div_num(15,5)"
   ]
  },
  {
   "cell_type": "code",
   "execution_count": 38,
   "metadata": {},
   "outputs": [
    {
     "name": "stdout",
     "output_type": "stream",
     "text": [
      "Huzaifa Ahmed 10th 6 Years\n"
     ]
    }
   ],
   "source": [
    "def fullName(fname,lname, class1 = \"4th \", age = \"5 Years\"):   \n",
    "    c = fname + lname + class1 + age\n",
    "    print(c)\n",
    "\n",
    "\n",
    "fullName(\"Huzaifa \", \"Ahmed \", age = \"6 Years\", class1 = \"10th \")"
   ]
  },
  {
   "cell_type": "code",
   "execution_count": 48,
   "metadata": {},
   "outputs": [
    {
     "name": "stdout",
     "output_type": "stream",
     "text": [
      "Muhammad  Zunaib  ('Afzal ', '4th ', '5 Years', '245 Marks')\n"
     ]
    }
   ],
   "source": [
    "def fullName(fname, lname, *other_info):  \n",
    "    print(fname, lname, other_info)\n",
    "\n",
    "\n",
    "fullName(\"Muhammad \", \"Zunaib \", \"Afzal \", \"4th \", \"5 Years\", \"245 Marks\")"
   ]
  },
  {
   "cell_type": "code",
   "execution_count": null,
   "metadata": {},
   "outputs": [],
   "source": [
    "#Functions\n",
    "#Parameter\n",
    "#Argument\n",
    "#Fucntion Call\n",
    "#Positional argument\n",
    "#Keyword argument\n"
   ]
  },
  {
   "cell_type": "code",
   "execution_count": null,
   "metadata": {},
   "outputs": [],
   "source": []
  },
  {
   "cell_type": "code",
   "execution_count": null,
   "metadata": {},
   "outputs": [],
   "source": []
  },
  {
   "cell_type": "code",
   "execution_count": null,
   "metadata": {},
   "outputs": [],
   "source": []
  }
 ],
 "metadata": {
  "kernelspec": {
   "display_name": "Python 3",
   "language": "python",
   "name": "python3"
  },
  "language_info": {
   "codemirror_mode": {
    "name": "ipython",
    "version": 3
   },
   "file_extension": ".py",
   "mimetype": "text/x-python",
   "name": "python",
   "nbconvert_exporter": "python",
   "pygments_lexer": "ipython3",
   "version": "3.7.1"
  }
 },
 "nbformat": 4,
 "nbformat_minor": 2
}
