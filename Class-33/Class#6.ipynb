{
 "cells": [
  {
   "cell_type": "code",
   "execution_count": 7,
   "metadata": {},
   "outputs": [
    {
     "name": "stdout",
     "output_type": "stream",
     "text": [
      "{'name': 'Zunaib', 'class': 5, 'age': 12, 'address': 'Karachi, Pakistan'}\n"
     ]
    }
   ],
   "source": [
    "#Dictionaries\n",
    "\n",
    "school = {\n",
    "            \"name\": \"Zunaib\",\n",
    "            \"class\": 5,\n",
    "            \"age\": 12,    \n",
    "        }\n",
    "\n",
    "school[\"address\"] = \"Karachi, Pakistan\"\n",
    "\n",
    "print(school)"
   ]
  },
  {
   "cell_type": "code",
   "execution_count": 9,
   "metadata": {},
   "outputs": [
    {
     "name": "stdout",
     "output_type": "stream",
     "text": [
      "{1: 'Zunaib', 2: 5, 3: 12, 4: 'Karachi, Pakistan'}\n"
     ]
    }
   ],
   "source": [
    "#Dictionaries\n",
    "\n",
    "school = {\n",
    "            1: \"Zunaib\",\n",
    "            2: 5,\n",
    "            3: 12,\n",
    "            4: \"Karachi, Pakistan\"\n",
    "        }\n",
    "print(school)"
   ]
  },
  {
   "cell_type": "code",
   "execution_count": 10,
   "metadata": {},
   "outputs": [
    {
     "data": {
      "text/plain": [
       "dict"
      ]
     },
     "execution_count": 10,
     "metadata": {},
     "output_type": "execute_result"
    }
   ],
   "source": [
    "school = {\n",
    "            1: \"Zunaib\",\n",
    "            2: 5,\n",
    "            3: 12,\n",
    "            4: \"Karachi, Pakistan\"\n",
    "        }\n",
    "\n",
    "type(school)"
   ]
  },
  {
   "cell_type": "code",
   "execution_count": 13,
   "metadata": {},
   "outputs": [
    {
     "data": {
      "text/plain": [
       "list"
      ]
     },
     "execution_count": 13,
     "metadata": {},
     "output_type": "execute_result"
    }
   ],
   "source": [
    "school = [      \"Zunaib\",    5,     12,  \"Karachi, Pakistan\"]\n",
    "\n",
    "type(school)"
   ]
  },
  {
   "cell_type": "code",
   "execution_count": 14,
   "metadata": {},
   "outputs": [
    {
     "data": {
      "text/plain": [
       "tuple"
      ]
     },
     "execution_count": 14,
     "metadata": {},
     "output_type": "execute_result"
    }
   ],
   "source": [
    "school = (      \"Zunaib\",    5,     12,  \"Karachi, Pakistan\")\n",
    "\n",
    "type(school)"
   ]
  },
  {
   "cell_type": "code",
   "execution_count": 21,
   "metadata": {},
   "outputs": [
    {
     "name": "stdout",
     "output_type": "stream",
     "text": [
      "{'name': 'Zunaib', 'class': 5, 'age': 12, 'address': 'Karachi, Pakistan'}\n"
     ]
    }
   ],
   "source": [
    "#Dictionaries\n",
    "\n",
    "school = {\n",
    "            \"name\": \"Zunaib\",\n",
    "            \"class\": 5,\n",
    "            \"age\": 12,\n",
    "            \"address\": \"Karachi, Pakistan\",\n",
    "            \"phone\": 12345\n",
    "        }\n",
    "\n",
    "del school[\"phone\"]\n",
    "\n",
    "print(school)"
   ]
  },
  {
   "cell_type": "code",
   "execution_count": 37,
   "metadata": {},
   "outputs": [
    {
     "name": "stdout",
     "output_type": "stream",
     "text": [
      "Zunaib name\n",
      "5 class\n",
      "12 age\n",
      "Karachi, Pakistan address\n",
      "12345 phone\n"
     ]
    }
   ],
   "source": [
    "#Dictionaries\n",
    "#.keys #.values #.items\n",
    "\n",
    "school = {\n",
    "            \"name\": \"Zunaib\",\n",
    "            \"class\": 5,\n",
    "            \"age\": 12,\n",
    "            \"address\": \"Karachi, Pakistan\",\n",
    "            \"phone\": 12345\n",
    "        }\n",
    "\n",
    "\n",
    "for academy_key, academy_value in school.items():\n",
    "    print(academy_value, academy_key)\n"
   ]
  },
  {
   "cell_type": "code",
   "execution_count": 48,
   "metadata": {},
   "outputs": [
    {
     "name": "stdout",
     "output_type": "stream",
     "text": [
      "{'name': 'Zunaib', 'class': 5, 'age': 12, 'address': 'Karachi, Pakistan', 'phone': 12345}\n",
      "{'name': 'Bilal', 'class': 9, 'age': 15, 'address': 'Islamabad, Pakistan', 'phone': 112233}\n",
      "{'name': 'Ahmed', 'class': 8, 'age': 10, 'address': 'Lahore, Pakistan', 'phone': 998877}\n"
     ]
    }
   ],
   "source": [
    "school = [\n",
    "        {\n",
    "            \"name\": \"Zunaib\",\n",
    "            \"class\": 5,\n",
    "            \"age\": 12,\n",
    "            \"address\": \"Karachi, Pakistan\",\n",
    "            \"phone\": 12345\n",
    "        },\n",
    "        {\n",
    "            \"name\": \"Bilal\",\n",
    "            \"class\": 9,\n",
    "            \"age\": 15,\n",
    "            \"address\": \"Islamabad, Pakistan\",\n",
    "            \"phone\": 112233\n",
    "        },\n",
    "        {\n",
    "            \"name\": \"Ahmed\",\n",
    "            \"class\": 8,\n",
    "            \"age\": 10,\n",
    "            \"address\": \"Lahore, Pakistan\",\n",
    "            \"phone\": 998877\n",
    "        }\n",
    "]\n",
    "\n",
    "for academy in school:\n",
    "    print(academy)"
   ]
  },
  {
   "cell_type": "code",
   "execution_count": null,
   "metadata": {},
   "outputs": [],
   "source": []
  }
 ],
 "metadata": {
  "kernelspec": {
   "display_name": "Python 3",
   "language": "python",
   "name": "python3"
  },
  "language_info": {
   "codemirror_mode": {
    "name": "ipython",
    "version": 3
   },
   "file_extension": ".py",
   "mimetype": "text/x-python",
   "name": "python",
   "nbconvert_exporter": "python",
   "pygments_lexer": "ipython3",
   "version": "3.7.1"
  }
 },
 "nbformat": 4,
 "nbformat_minor": 2
}
