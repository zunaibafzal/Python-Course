{
 "cells": [
  {
   "cell_type": "code",
   "execution_count": 6,
   "metadata": {},
   "outputs": [
    {
     "name": "stdout",
     "output_type": "stream",
     "text": [
      "Blue\n"
     ]
    }
   ],
   "source": [
    "#Tuples\n",
    "\n",
    "colors = (\"Red\", \"Blue\", \"White\", \"Black\")\n",
    "\n",
    "print(colors[1])\n"
   ]
  },
  {
   "cell_type": "code",
   "execution_count": 12,
   "metadata": {},
   "outputs": [
    {
     "name": "stdout",
     "output_type": "stream",
     "text": [
      "Q)\tWhat is your name? \n",
      "A)\tMy Name is Zunaib Afzal.\n"
     ]
    }
   ],
   "source": [
    "#\\n for New line. \\t for space\n",
    "print(\"Q)\\tWhat is your name? \\nA)\\tMy Name is Zunaib Afzal.\")"
   ]
  },
  {
   "cell_type": "code",
   "execution_count": 34,
   "metadata": {},
   "outputs": [
    {
     "name": "stdout",
     "output_type": "stream",
     "text": [
      "Welcome to Zunaib\n",
      "Welcome to Bilal\n",
      "Welcome to Nasir\n"
     ]
    }
   ],
   "source": [
    "#for Loops\n",
    "\n",
    "names = [\"Zunaib\", \"Bilal\", \"Nasir\", \"Zubair\", \"Abdullah\"]\n",
    "\n",
    "for i in names:\n",
    "    print(\"Welcome to \" + i)\n",
    "    if i == \"Nasir\":\n",
    "        break\n"
   ]
  },
  {
   "cell_type": "code",
   "execution_count": 30,
   "metadata": {},
   "outputs": [
    {
     "name": "stdout",
     "output_type": "stream",
     "text": [
      "['Muhammad Zunaib', 'Muhammad Bilal', 'Muhammad Nasir', 'Muhammad Zubair', 'Muhammad Abdullah', 'Ahmed Zunaib', 'Ahmed Bilal', 'Ahmed Nasir', 'Ahmed Zubair', 'Ahmed Abdullah']\n"
     ]
    }
   ],
   "source": [
    "#for nested Loops\n",
    "\n",
    "firstName = [\"Muhammad\", \"Ahmed\"]\n",
    "lastName = [\"Zunaib\", \"Bilal\", \"Nasir\", \"Zubair\", \"Abdullah\"]\n",
    "fullName = []\n",
    "\n",
    "for first in firstName:\n",
    "\n",
    "\n",
    "        \n",
    "\n",
    "   "
   ]
  },
  {
   "cell_type": "code",
   "execution_count": 38,
   "metadata": {},
   "outputs": [
    {
     "name": "stdout",
     "output_type": "stream",
     "text": [
      "Write First Value: 15\n",
      "40\n"
     ]
    }
   ],
   "source": [
    "#Convert input in int.\n",
    "\n",
    "a = input(\"Write First Value: \")\n",
    "\n",
    "a = int(a)\n",
    "\n",
    "print(a + 25)"
   ]
  },
  {
   "cell_type": "code",
   "execution_count": 47,
   "metadata": {},
   "outputs": [
    {
     "name": "stdout",
     "output_type": "stream",
     "text": [
      "zunaib\n",
      "bilal\n",
      "nasir\n",
      "zubair\n",
      "abdullah\n"
     ]
    }
   ],
   "source": [
    "#Change Case\n",
    "\n",
    "name = [\"zuNaiB\", \"BilAl\", \"NaSIr\", \"ZuBAir\", \"AbduLLah\"]\n",
    "\n",
    "#name = \"zunAIb\"\n",
    "\n",
    "for i in name:\n",
    "    \n",
    "    print(i.lower())"
   ]
  },
  {
   "cell_type": "code",
   "execution_count": null,
   "metadata": {},
   "outputs": [],
   "source": []
  }
 ],
 "metadata": {
  "kernelspec": {
   "display_name": "Python 3",
   "language": "python",
   "name": "python3"
  },
  "language_info": {
   "codemirror_mode": {
    "name": "ipython",
    "version": 3
   },
   "file_extension": ".py",
   "mimetype": "text/x-python",
   "name": "python",
   "nbconvert_exporter": "python",
   "pygments_lexer": "ipython3",
   "version": "3.7.1"
  }
 },
 "nbformat": 4,
 "nbformat_minor": 2
}
